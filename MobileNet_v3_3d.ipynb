{
 "cells": [
  {
   "cell_type": "code",
   "execution_count": 67,
   "id": "84bcd940",
   "metadata": {},
   "outputs": [],
   "source": [
    "import tensorflow as tf\n",
    "\n",
    "def hard_sigmoid(x):\n",
    "    return tf.nn.relu6(x + 3) / 6\n",
    "\n",
    "def hard_swish(x):\n",
    "    return x * hard_sigmoid(x)\n",
    "\n",
    "def conv_bn_activation(x, filters, kernel_size, strides=1, padding='same', activation=None):\n",
    "    x = tf.keras.layers.Conv3D(filters=filters, kernel_size=kernel_size, strides=strides, padding=padding)(x)\n",
    "    x = tf.keras.layers.BatchNormalization()(x)\n",
    "    if activation:\n",
    "        x = tf.keras.layers.Activation(hard_swish)(x)\n",
    "    return x\n",
    "\n",
    "def bottleneck(x, filters, kernel_size, strides=1, expansion=4, activation=None):\n",
    "    channel_axis = 1 if tf.keras.backend.image_data_format() == 'channels_first' else -1\n",
    "    input_shape = tf.keras.backend.int_shape(x)\n",
    "    input_filters = input_shape[channel_axis]\n",
    "    t = tf.keras.layers.Conv3D(input_filters * expansion, 1, padding='same')(x)\n",
    "    t = tf.keras.layers.BatchNormalization()(t)\n",
    "    if activation == 'hard_sigmoid':\n",
    "        t = tf.keras.layers.Activation(hard_sigmoid)(t)\n",
    "    else:\n",
    "        t = tf.keras.layers.Activation(hard_swish)(t)\n",
    "    t = conv_bn_activation(t, filters, kernel_size, strides)\n",
    "    t = tf.keras.layers.BatchNormalization()(t)\n",
    "    if input_filters == filters and strides == 1:\n",
    "        shortcut = x\n",
    "    else:\n",
    "        shortcut = conv_bn_activation(x, filters, 1, strides)\n",
    "    output = tf.keras.layers.add([shortcut, t])\n",
    "    return output\n",
    "\n",
    "def MobileNetV3(input_shape=(16, 224, 224, 3), alpha=1.0, classes=5):\n",
    "    img_input = tf.keras.layers.Input(shape=input_shape)\n",
    "\n",
    "    # Stem\n",
    "    x = conv_bn_activation(img_input, int(16 * alpha), 3, strides=2, activation='hard_swish')\n",
    "\n",
    "    # Blocks\n",
    "    x = bottleneck(x, int(16 * alpha), 3, expansion=1, activation='hard_sigmoid')\n",
    "    x = bottleneck(x, int(24 * alpha), 3, strides=2, expansion=4, activation='hard_sigmoid')\n",
    "    x = bottleneck(x, int(24 * alpha), 3, expansion=3, activation='hard_sigmoid')\n",
    "    x = bottleneck(x, int(40 * alpha), 5, strides=2, expansion=3, activation='hard_sigmoid')\n",
    "    x = bottleneck(x, int(40 * alpha), 5, expansion=3, activation='hard_sigmoid')\n",
    "    x = bottleneck(x, int(40 * alpha), 5, expansion=3, activation='hard_sigmoid')\n",
    "    x = bottleneck(x, int(80 * alpha), 3, expansion=6, activation='hard_swish')\n",
    "    x = bottleneck(x, int(80 * alpha), 3, expansion=6, activation='hard_swish')\n",
    "    x = bottleneck(x, int(80 * alpha), 3, expansion=6, activation='hard_swish')\n",
    "    x = bottleneck(x, int(80 * alpha), 3, expansion=6, activation='hard_swish')\n",
    "    x = bottleneck(x, int(112 * alpha), 5, expansion=6, activation='hard_swish')\n",
    "    x = bottleneck(x, int(112 * alpha), 5, expansion=6, activation='hard_swish')\n",
    "    x = bottleneck(x, int(160 * alpha), 5, expansion=6, activation='hard_swish')\n",
    "    x = bottleneck(x, int(160 * alpha), 5, expansion=6, activation='hard_swish')\n",
    "    x = bottleneck(x, int(160 * alpha), 5, expansion=6, activation='hard_swish')\n",
    "\n",
    "    # Head\n",
    "    x = conv_bn_activation(x, int(960 * alpha),1, padding='same', activation='hard_swish')\n",
    "    x = tf.keras.layers.GlobalAveragePooling3D()(x)\n",
    "    x = tf.keras.layers.Reshape((1,1, 1, int(960 * alpha)))(x)\n",
    "    x = tf.keras.layers.Conv3D(int(1280 * alpha), 1, padding='same')(x)\n",
    "    x = tf.keras.layers.Activation(hard_swish)(x)\n",
    "    x = tf.keras.layers.Conv1D(classes, 1, padding='same', activation='softmax')(x)\n",
    "    x = tf.keras.layers.Reshape((classes,))(x)\n",
    "    \n",
    "    model = tf.keras.models.Model(img_input, x, name='mobilenetv3')\n",
    "\n",
    "    return model"
   ]
  },
  {
   "cell_type": "code",
   "execution_count": 56,
   "id": "4c71123f",
   "metadata": {},
   "outputs": [],
   "source": [
    "from keras.models import *"
   ]
  },
  {
   "cell_type": "code",
   "execution_count": 68,
   "id": "59b7424e",
   "metadata": {},
   "outputs": [],
   "source": [
    "model = MobileNetV3()\n",
    "optimizer = tf.keras.optimizers.Adam(learning_rate=0.001)\n",
    "loss = tf.keras.losses.CategoricalCrossentropy()\n",
    "metrics = [tf.keras.metrics.CategoricalAccuracy()]\n",
    "model.compile(optimizer=optimizer, loss=loss, metrics=metrics)"
   ]
  },
  {
   "cell_type": "code",
   "execution_count": 61,
   "id": "58895c7e",
   "metadata": {},
   "outputs": [
    {
     "data": {
      "text/plain": [
       "<KerasTensor: shape=(None, 5) dtype=float32 (created by layer 'reshape_17')>"
      ]
     },
     "execution_count": 61,
     "metadata": {},
     "output_type": "execute_result"
    }
   ],
   "source": [
    "model"
   ]
  }
 ],
 "metadata": {
  "kernelspec": {
   "display_name": "Python 3 (ipykernel)",
   "language": "python",
   "name": "python3"
  },
  "language_info": {
   "codemirror_mode": {
    "name": "ipython",
    "version": 3
   },
   "file_extension": ".py",
   "mimetype": "text/x-python",
   "name": "python",
   "nbconvert_exporter": "python",
   "pygments_lexer": "ipython3",
   "version": "3.9.13"
  }
 },
 "nbformat": 4,
 "nbformat_minor": 5
}
