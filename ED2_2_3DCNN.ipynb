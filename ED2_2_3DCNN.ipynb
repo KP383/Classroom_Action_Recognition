{
 "cells": [
  {
   "cell_type": "code",
   "execution_count": 1,
   "id": "7c0660e5",
   "metadata": {},
   "outputs": [
    {
     "name": "stderr",
     "output_type": "stream",
     "text": [
      "2023-04-05 19:09:49.675936: I tensorflow/core/platform/cpu_feature_guard.cc:193] This TensorFlow binary is optimized with oneAPI Deep Neural Network Library (oneDNN) to use the following CPU instructions in performance-critical operations:  AVX2 FMA\n",
      "To enable them in other operations, rebuild TensorFlow with the appropriate compiler flags.\n"
     ]
    }
   ],
   "source": [
    "from keras.layers import Conv2D\n",
    "from keras.layers import Input\n",
    "from keras.layers import MaxPooling2D, UpSampling2D\n",
    "from keras.models import Model\n",
    "from keras.datasets.mnist import load_data\n",
    "from numpy import reshape\n",
    "import matplotlib.pyplot as plt\n",
    "import os\n",
    "import glob\n",
    "import numpy as np \n",
    "import pandas as pd \n",
    "import matplotlib.pyplot as plt\n",
    "import cv2\n",
    "from keras.preprocessing import image\n",
    "from keras.models import *\n",
    "from tensorflow.keras.optimizers import Adam, RMSprop\n",
    "from keras.callbacks import EarlyStopping\n",
    "from keras.layers import Input, Dense, Activation, BatchNormalization, Flatten, Conv2D\n",
    "from keras.layers import MaxPooling2D, Dropout, UpSampling2D\n",
    "from tensorflow.keras.layers import *\n",
    "from tensorflow.keras.models import Sequential\n",
    "from tensorflow.keras.utils import to_categorical\n",
    "from tensorflow.keras.callbacks import EarlyStopping\n",
    "from tensorflow.keras.utils import plot_model"
   ]
  },
  {
   "cell_type": "code",
   "execution_count": 2,
   "id": "b0e8d9e2",
   "metadata": {},
   "outputs": [],
   "source": [
    "from support_function import *"
   ]
  },
  {
   "cell_type": "code",
   "execution_count": 3,
   "id": "e2a0f413",
   "metadata": {},
   "outputs": [
    {
     "name": "stdout",
     "output_type": "stream",
     "text": [
      "Extracting Data of Class: TALKING\n",
      "['T13.webp', 'T14.jpg', 'T8.MOV', 'T9.MOV', 'T1.MOV', 'T2.MOV', 'T3.MOV', 'T10.MOV', 'T7.MOV', 'T6.MOV', 'T4.mov', 'T5.MOV', 'T12.mp4', 'T11.mp4']\n",
      "/Users/parthkalathia/Desktop/CNN_SCRATCH/FINALDATASET_V2/TALKING/T13.webp\n",
      "/Users/parthkalathia/Desktop/CNN_SCRATCH/FINALDATASET_V2/TALKING/T14.jpg\n",
      "/Users/parthkalathia/Desktop/CNN_SCRATCH/FINALDATASET_V2/TALKING/T8.MOV\n",
      "/Users/parthkalathia/Desktop/CNN_SCRATCH/FINALDATASET_V2/TALKING/T9.MOV\n",
      "/Users/parthkalathia/Desktop/CNN_SCRATCH/FINALDATASET_V2/TALKING/T1.MOV\n",
      "/Users/parthkalathia/Desktop/CNN_SCRATCH/FINALDATASET_V2/TALKING/T2.MOV\n",
      "/Users/parthkalathia/Desktop/CNN_SCRATCH/FINALDATASET_V2/TALKING/T3.MOV\n",
      "/Users/parthkalathia/Desktop/CNN_SCRATCH/FINALDATASET_V2/TALKING/T10.MOV\n",
      "/Users/parthkalathia/Desktop/CNN_SCRATCH/FINALDATASET_V2/TALKING/T7.MOV\n",
      "/Users/parthkalathia/Desktop/CNN_SCRATCH/FINALDATASET_V2/TALKING/T6.MOV\n",
      "/Users/parthkalathia/Desktop/CNN_SCRATCH/FINALDATASET_V2/TALKING/T4.mov\n",
      "/Users/parthkalathia/Desktop/CNN_SCRATCH/FINALDATASET_V2/TALKING/T5.MOV\n",
      "/Users/parthkalathia/Desktop/CNN_SCRATCH/FINALDATASET_V2/TALKING/T12.mp4\n",
      "/Users/parthkalathia/Desktop/CNN_SCRATCH/FINALDATASET_V2/TALKING/T11.mp4\n"
     ]
    }
   ],
   "source": [
    "features, labels = create_dataset(20)"
   ]
  },
  {
   "cell_type": "code",
   "execution_count": 4,
   "id": "bfeea408",
   "metadata": {},
   "outputs": [
    {
     "name": "stdout",
     "output_type": "stream",
     "text": [
      "Length of features :  800\n",
      "Length of labels :  800\n"
     ]
    }
   ],
   "source": [
    "print(\"Length of features : \", len(features))\n",
    "print(\"Length of labels : \", len(labels))"
   ]
  },
  {
   "cell_type": "code",
   "execution_count": 5,
   "id": "7aa564cc",
   "metadata": {},
   "outputs": [
    {
     "name": "stdout",
     "output_type": "stream",
     "text": [
      "shape of features :  (800, 256, 256, 3)\n",
      "shape of labels :  (800,)\n"
     ]
    }
   ],
   "source": [
    "print(\"shape of features : \", features.shape)\n",
    "print(\"shape of labels : \", labels.shape)"
   ]
  },
  {
   "cell_type": "code",
   "execution_count": 8,
   "id": "677c5bef",
   "metadata": {},
   "outputs": [],
   "source": [
    "one_hot_encoded_labels = to_categorical(labels)"
   ]
  },
  {
   "cell_type": "code",
   "execution_count": 9,
   "id": "6c63328a",
   "metadata": {
    "collapsed": true
   },
   "outputs": [
    {
     "data": {
      "text/plain": [
       "array([0, 0, 0, 0, 0, 0, 0, 0, 0, 0, 0, 0, 0, 0, 0, 0, 0, 0, 0, 0, 0, 0,\n",
       "       0, 0, 0, 0, 0, 0, 0, 0, 0, 0, 0, 0, 0, 0, 0, 0, 0, 0, 0, 0, 0, 0,\n",
       "       0, 0, 0, 0, 0, 0, 0, 0, 0, 0, 0, 0, 0, 0, 0, 0, 0, 0, 0, 0, 0, 0,\n",
       "       0, 0, 0, 0, 0, 0, 0, 0, 0, 0, 0, 0, 0, 0, 0, 0, 0, 0, 0, 0, 0, 0,\n",
       "       0, 0, 0, 0, 0, 0, 0, 0, 0, 0, 0, 0, 0, 0, 0, 0, 0, 0, 0, 0, 0, 0,\n",
       "       0, 0, 0, 0, 0, 0, 0, 0, 0, 0, 0, 0, 0, 0, 0, 0, 0, 0, 0, 0, 0, 0,\n",
       "       0, 0, 0, 0, 0, 0, 0, 0, 0, 0, 0, 0, 0, 0, 0, 0, 0, 0, 0, 0, 0, 0,\n",
       "       0, 0, 0, 0, 0, 0, 0, 0, 0, 0, 0, 0, 0, 0, 0, 0, 0, 0, 0, 0, 0, 0,\n",
       "       0, 0, 0, 0, 0, 0, 0, 0, 0, 0, 0, 0, 0, 0, 0, 0, 0, 0, 0, 0, 0, 0,\n",
       "       0, 0, 0, 0, 0, 0, 0, 0, 0, 0, 0, 0, 0, 0, 0, 0, 0, 0, 0, 0, 0, 0,\n",
       "       0, 0, 0, 0, 0, 0, 0, 0, 0, 0, 0, 0, 0, 0, 0, 0, 0, 0, 0, 0, 0, 0,\n",
       "       0, 0, 0, 0, 0, 0, 0, 0, 0, 0, 0, 0, 0, 0, 0, 0, 0, 0, 0, 0, 0, 0,\n",
       "       0, 0, 0, 0, 0, 0, 0, 0, 0, 0, 0, 0, 0, 0, 0, 0, 0, 0, 0, 0, 0, 0,\n",
       "       0, 0, 0, 0, 0, 0, 0, 0, 0, 0, 0, 0, 0, 0, 0, 0, 0, 0, 0, 0, 0, 0,\n",
       "       0, 0, 0, 0, 0, 0, 0, 0, 0, 0, 0, 0, 0, 0, 0, 0, 0, 0, 0, 0, 0, 0,\n",
       "       0, 0, 0, 0, 0, 0, 0, 0, 0, 0, 0, 0, 0, 0, 0, 0, 0, 0, 0, 0, 0, 0,\n",
       "       0, 0, 0, 0, 0, 0, 0, 0, 0, 0, 0, 0, 0, 0, 0, 0, 0, 0, 0, 0, 0, 0,\n",
       "       0, 0, 0, 0, 0, 0, 0, 0, 0, 0, 0, 0, 0, 0, 0, 0, 0, 0, 0, 0, 0, 0,\n",
       "       0, 0, 0, 0, 0, 0, 0, 0, 0, 0, 0, 0, 0, 0, 0, 0, 0, 0, 0, 0, 0, 0,\n",
       "       0, 0, 0, 0, 0, 0, 0, 0, 0, 0, 0, 0, 0, 0, 0, 0, 0, 0, 0, 0, 0, 0,\n",
       "       0, 0, 0, 0, 0, 0, 0, 0, 0, 0, 0, 0, 0, 0, 0, 0, 0, 0, 0, 0, 0, 0,\n",
       "       0, 0, 0, 0, 0, 0, 0, 0, 0, 0, 0, 0, 0, 0, 0, 0, 0, 0, 0, 0, 0, 0,\n",
       "       0, 0, 0, 0, 0, 0, 0, 0, 0, 0, 0, 0, 0, 0, 0, 0, 0, 0, 0, 0, 0, 0,\n",
       "       0, 0, 0, 0, 0, 0, 0, 0, 0, 0, 0, 0, 0, 0, 0, 0, 0, 0, 0, 0, 0, 0,\n",
       "       0, 0, 0, 0, 0, 0, 0, 0, 0, 0, 0, 0, 0, 0, 0, 0, 0, 0, 0, 0, 0, 0,\n",
       "       0, 0, 0, 0, 0, 0, 0, 0, 0, 0, 0, 0, 0, 0, 0, 0, 0, 0, 0, 0, 0, 0,\n",
       "       0, 0, 0, 0, 0, 0, 0, 0, 0, 0, 0, 0, 0, 0, 0, 0, 0, 0, 0, 0, 0, 0,\n",
       "       0, 0, 0, 0, 0, 0, 0, 0, 0, 0, 0, 0, 0, 0, 0, 0, 0, 0, 0, 0, 0, 0,\n",
       "       0, 0, 0, 0, 0, 0, 0, 0, 0, 0, 0, 0, 0, 0, 0, 0, 0, 0, 0, 0, 0, 0,\n",
       "       0, 0, 0, 0, 0, 0, 0, 0, 0, 0, 0, 0, 0, 0, 0, 0, 0, 0, 0, 0, 0, 0,\n",
       "       0, 0, 0, 0, 0, 0, 0, 0, 0, 0, 0, 0, 0, 0, 0, 0, 0, 0, 0, 0, 0, 0,\n",
       "       0, 0, 0, 0, 0, 0, 0, 0, 0, 0, 0, 0, 0, 0, 0, 0, 0, 0, 0, 0, 0, 0,\n",
       "       0, 0, 0, 0, 0, 0, 0, 0, 0, 0, 0, 0, 0, 0, 0, 0, 0, 0, 0, 0, 0, 0,\n",
       "       0, 0, 0, 0, 0, 0, 0, 0, 0, 0, 0, 0, 0, 0, 0, 0, 0, 0, 0, 0, 0, 0,\n",
       "       0, 0, 0, 0, 0, 0, 0, 0, 0, 0, 0, 0, 0, 0, 0, 0, 0, 0, 0, 0, 0, 0,\n",
       "       0, 0, 0, 0, 0, 0, 0, 0, 0, 0, 0, 0, 0, 0, 0, 0, 0, 0, 0, 0, 0, 0,\n",
       "       0, 0, 0, 0, 0, 0, 0, 0])"
      ]
     },
     "execution_count": 9,
     "metadata": {},
     "output_type": "execute_result"
    }
   ],
   "source": [
    "labels"
   ]
  },
  {
   "cell_type": "code",
   "execution_count": 15,
   "id": "36ea501f",
   "metadata": {},
   "outputs": [
    {
     "data": {
      "text/plain": [
       "(256, 256, 3)"
      ]
     },
     "execution_count": 15,
     "metadata": {},
     "output_type": "execute_result"
    }
   ],
   "source": [
    "features[0].shape"
   ]
  },
  {
   "cell_type": "code",
   "execution_count": null,
   "id": "29d0403b",
   "metadata": {},
   "outputs": [],
   "source": [
    "# seed_constant = 23\n",
    "# np.random.seed(seed_constant)\n",
    "# tf.random.set_seed(seed_constant)\n",
    "# features_train, features_test, labels_train, labels_test = train_test_split(features, one_hot_encoded_labels, test_size = 0.0, shuffle = True, random_state = seed_constant)"
   ]
  },
  {
   "cell_type": "code",
   "execution_count": 10,
   "id": "2bed4099",
   "metadata": {},
   "outputs": [],
   "source": [
    "from sklearn.utils import shuffle\n",
    "X_train, Y_train = shuffle(features, one_hot_encoded_labels, random_state=23)"
   ]
  },
  {
   "cell_type": "markdown",
   "id": "0d461b05",
   "metadata": {},
   "source": [
    "## DEFINE THE MODELS BASED ON 3DCNN"
   ]
  },
  {
   "cell_type": "code",
   "execution_count": null,
   "id": "59222035",
   "metadata": {},
   "outputs": [],
   "source": [
    "def create_model():\n",
    "    from keras.layers import Conv3D, MaxPool3D, Flatten, Dense\n",
    "    from keras.layers import Dropout, Input, BatchNormalization\n",
    "    from sklearn.metrics import confusion_matrix, accuracy_score\n",
    "    from plotly.offline import iplot, init_notebook_mode\n",
    "    from keras.losses import categorical_crossentropy\n",
    "    from tensorflow.keras.optimizers import Adadelta\n",
    "    from tensorflow.keras.layers import Dense, Flatten, Conv3D, MaxPooling3D\n",
    "    import plotly.graph_objs as go\n",
    "    from matplotlib.pyplot import cm\n",
    "    from keras.models import Model\n",
    "    import numpy as np\n",
    "    import keras\n",
    "    import h5py\n",
    "  \n",
    "    model = Sequential()\n",
    "    sample_shape=(16,64,64,3)\n",
    "    model.add(Conv3D(32, kernel_size=(3, 3, 3) ,activation='relu', kernel_initializer='he_uniform', input_shape=sample_shape ,padding='same'))\n",
    "    model.add(MaxPooling3D(pool_size=(2, 2, 2)))\n",
    "    model.add(Conv3D(64, kernel_size=(3, 3, 3), activation='relu', kernel_initializer='he_uniform', padding='same'))\n",
    "    model.add(MaxPooling3D(pool_size=(2, 2, 2)))\n",
    "    model.add(Conv3D(128, kernel_size=(3, 3, 3), activation='relu', kernel_initializer='he_uniform', padding='same'))\n",
    "    model.add(MaxPooling3D(pool_size=(2, 2, 2)))\n",
    "    model.add(Conv3D(256, kernel_size=(3, 3, 3), activation='relu', kernel_initializer='he_uniform', padding='same'))\n",
    "    model.add(MaxPooling3D(pool_size=(2, 2, 2)))\n",
    "    model.add(Conv3D(256, kernel_size=(3, 3, 3), activation='relu', kernel_initializer='he_uniform', padding='same'))\n",
    "    model.add(GlobalAveragePooling3D())\n",
    "    model.add(Dense(20, activation='relu', kernel_initializer='he_uniform'))\n",
    "    model.add(Dense(50, activation='relu', kernel_initializer='he_uniform'))\n",
    "    model.add(Dense(100, activation='relu', kernel_initializer='he_uniform'))\n",
    "    model.add(Dense(1, activation='softmax'))\n",
    "    model.summary()\n",
    "    return model\n",
    "\n",
    "model = create_model()\n",
    "print(\"Model Created Successfully!\")\n",
    "\n",
    "# Input shape\n",
    "\n",
    "# 5+D tensor with shape: batch_shape + (channels, conv_dim1, conv_dim2, conv_dim3) \n",
    "# if data_format='channels_first' or 5+D tensor with \n",
    "# shape: batch_shape + (conv_dim1, conv_dim2, conv_dim3, channels) if data_format='channels_last'.\n",
    "\n",
    "# Output shape\n",
    "\n",
    "# 5+D tensor with shape: batch_shape + (filters, new_conv_dim1, new_conv_dim2, new_conv_dim3) \n",
    "# if data_format='channels_first' or 5+D tensor with \n",
    "# shape: batch_shape + (new_conv_dim1, new_conv_dim2, new_conv_dim3, filters) if data_format='channels_last'. new_conv_dim1, new_conv_dim2 and new_conv_dim3 values might have changed due to padding.\n",
    "\n"
   ]
  },
  {
   "cell_type": "markdown",
   "id": "e1b7056d",
   "metadata": {},
   "source": [
    "## COMPILE THE MODEL"
   ]
  },
  {
   "cell_type": "code",
   "execution_count": 21,
   "id": "5abd8d2a",
   "metadata": {},
   "outputs": [],
   "source": [
    "#Adding Early Stopping Callback 9824855926-sahdev bhai\n",
    "early_stopping_callback = EarlyStopping(monitor = 'val_loss', patience = 15, mode = 'min', restore_best_weights = True)\n",
    "\n",
    "# Adding loss, optimizer and metrics values to the model.\n",
    "model.compile(loss = 'categorical_crossentropy', optimizer = 'Adam', metrics = [\"accuracy\"])"
   ]
  },
  {
   "cell_type": "code",
   "execution_count": 22,
   "id": "338f41e2",
   "metadata": {},
   "outputs": [],
   "source": [
    "# x_train = features_train.reshape(features_train.shape[0], 16, 16, 16, 3)\n",
    "X_train = X_train.reshape(X_train.shape[0], 16, 64, 64, 3)\n",
    "#total no of sample, height, width, no of frames, channel"
   ]
  },
  {
   "cell_type": "code",
   "execution_count": null,
   "id": "3656659e",
   "metadata": {},
   "outputs": [
    {
     "name": "stdout",
     "output_type": "stream",
     "text": [
      "Epoch 1/5\n",
      "64/64 [==============================] - 201s 3s/step - loss: 0.0000e+00 - accuracy: 1.0000 - val_loss: 0.0000e+00 - val_accuracy: 1.0000\n",
      "Epoch 2/5\n",
      "64/64 [==============================] - 194s 3s/step - loss: 0.0000e+00 - accuracy: 1.0000 - val_loss: 0.0000e+00 - val_accuracy: 1.0000\n",
      "Epoch 3/5\n",
      "64/64 [==============================] - 200s 3s/step - loss: 0.0000e+00 - accuracy: 1.0000 - val_loss: 0.0000e+00 - val_accuracy: 1.0000\n",
      "Epoch 4/5\n",
      "64/64 [==============================] - 207s 3s/step - loss: 0.0000e+00 - accuracy: 1.0000 - val_loss: 0.0000e+00 - val_accuracy: 1.0000\n",
      "Epoch 5/5\n",
      "10/64 [===>..........................] - ETA: 12:47:08 - loss: 0.0000e+00 - accuracy: 1.0000"
     ]
    }
   ],
   "source": [
    "model_training_history = model.fit(x = np.array(X_train), y = np.array(Y_train) , shuffle = True, epochs = 5 , batch_size= 10, validation_split=0.2, callbacks = [early_stopping_callback])\n",
    "\n"
   ]
  },
  {
   "cell_type": "code",
   "execution_count": null,
   "id": "af81504a",
   "metadata": {},
   "outputs": [],
   "source": [
    "# Creating a useful name for our model, incase you're saving multiple models (OPTIONAL)\n",
    "model_name = '/Users/parthkalathia/Desktop/CNN_SCRATCH/MODELS/ED2_2_3DCNN.h5'\n",
    "\n",
    "# Saving your Model\n",
    "model.save(model_name)"
   ]
  },
  {
   "cell_type": "code",
   "execution_count": null,
   "id": "2e220108",
   "metadata": {},
   "outputs": [],
   "source": [
    "plot_metric('loss', 'val_loss', 'Total Loss vs Total Validation Loss', model_training_history) "
   ]
  },
  {
   "cell_type": "code",
   "execution_count": null,
   "id": "a54dc969",
   "metadata": {},
   "outputs": [],
   "source": [
    "plot_metric('accuracy', 'val_accuracy', 'Total Accuracy vs Total Validation Accuracy', model_training_history)"
   ]
  }
 ],
 "metadata": {
  "kernelspec": {
   "display_name": "Python 3 (ipykernel)",
   "language": "python",
   "name": "python3"
  },
  "language_info": {
   "codemirror_mode": {
    "name": "ipython",
    "version": 3
   },
   "file_extension": ".py",
   "mimetype": "text/x-python",
   "name": "python",
   "nbconvert_exporter": "python",
   "pygments_lexer": "ipython3",
   "version": "3.9.13"
  }
 },
 "nbformat": 4,
 "nbformat_minor": 5
}
